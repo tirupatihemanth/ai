{
 "cells": [
  {
   "cell_type": "markdown",
   "metadata": {},
   "source": [
    "### Named Entity Recognition USING BERT BASE NER\n",
    "- Using the model found here - https://huggingface.co/dslim/bert-base-NER\n",
    "- BERT is Bidirectional Encoder Representations from Transformers is a NN model by Google. This model is used for variety of NLP Tasks like Questions answering, text summarization and NL inference\n",
    "- BERT is based on transformer architecture which is well suited for NLP tasks. It is a general purpose language model.\n",
    "- We are using a BERT BASED NER model. This is a model obtained by fine tuning BERT model for achieving state of the art performance in NER tasks. \n",
    "- BERT-BASE-NER is trained to recognize 4 entities: LOC, ORG, PER, MISC"
   ]
  },
  {
   "cell_type": "code",
   "execution_count": 22,
   "metadata": {},
   "outputs": [],
   "source": [
    "import os\n",
    "import io\n",
    "import IPython.display\n",
    "from PIL import Image\n",
    "import base64\n",
    "from dotenv import load_dotenv, find_dotenv\n",
    "\n",
    "_ = load_dotenv(find_dotenv())\n",
    "hf_api_key = os.environ['HF_API_KEY']"
   ]
  },
  {
   "cell_type": "code",
   "execution_count": 23,
   "metadata": {},
   "outputs": [],
   "source": [
    "text = \"My name is Hemanth, I'm learning GenerativeAI and I live in Koramangala\"\n",
    "text = \"I think this model sucks and I don't even live in the USA\""
   ]
  },
  {
   "cell_type": "code",
   "execution_count": 24,
   "metadata": {},
   "outputs": [],
   "source": [
    "import requests, json\n",
    "\n",
    "def ner(text, api_url = os.environ['HF_NER_API_URL']):\n",
    "    headers = {\n",
    "        \"Authorization\": f\"Bearer {hf_api_key}\",\n",
    "        \"Content-Type\" : \"application/json\"\n",
    "    }\n",
    "\n",
    "    \n",
    "    data = {\n",
    "        \"inputs\": text\n",
    "    }\n",
    "\n",
    "\n",
    "    response = requests.post(api_url, headers=headers, data=json.dumps(data))\n",
    "    print(response.json())"
   ]
  },
  {
   "cell_type": "code",
   "execution_count": 25,
   "metadata": {},
   "outputs": [
    {
     "name": "stdout",
     "output_type": "stream",
     "text": [
      "[{'entity_group': 'LOC', 'score': 0.9996613264083862, 'word': 'USA', 'start': 54, 'end': 57}]\n"
     ]
    }
   ],
   "source": [
    "ner(text)"
   ]
  }
 ],
 "metadata": {
  "kernelspec": {
   "display_name": "ai",
   "language": "python",
   "name": "python3"
  },
  "language_info": {
   "codemirror_mode": {
    "name": "ipython",
    "version": 3
   },
   "file_extension": ".py",
   "mimetype": "text/x-python",
   "name": "python",
   "nbconvert_exporter": "python",
   "pygments_lexer": "ipython3",
   "version": "3.11.4"
  },
  "orig_nbformat": 4
 },
 "nbformat": 4,
 "nbformat_minor": 2
}
