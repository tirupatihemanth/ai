{
 "cells": [
  {
   "cell_type": "markdown",
   "metadata": {},
   "source": [
    "### CHAT WITH A LLM\n",
    "- "
   ]
  },
  {
   "cell_type": "code",
   "execution_count": 1,
   "metadata": {},
   "outputs": [],
   "source": [
    "import os\n",
    "import io\n",
    "import IPython.display\n",
    "from PIL import Image\n",
    "import base64\n",
    "from dotenv import load_dotenv, find_dotenv\n",
    "\n",
    "_ = load_dotenv(find_dotenv())\n",
    "hf_api_key = os.environ['HF_API_KEY']"
   ]
  },
  {
   "cell_type": "code",
   "execution_count": 2,
   "metadata": {},
   "outputs": [],
   "source": [
    "import requests, json\n",
    "\n",
    "def chat_llm(text, api_url = os.environ['HF_LLM_API_URL']):\n",
    "    headers = {\n",
    "        \"Authorization\": f\"Bearer {hf_api_key}\",\n",
    "        \"Content-Type\" : \"application/json\"\n",
    "    }\n",
    "\n",
    "    params = {\n",
    "        \"max_new_tokens\" : 256\n",
    "    }\n",
    "\n",
    "    data = {\n",
    "        \"inputs\": text,\n",
    "        \"parameters\": params\n",
    "    }\n",
    "\n",
    "\n",
    "    response = requests.post(api_url, headers=headers, data=json.dumps(data), timeout=360)\n",
    "    print(response.json())"
   ]
  },
  {
   "cell_type": "code",
   "execution_count": 3,
   "metadata": {},
   "outputs": [],
   "source": [
    "text = \"Has mathematics been invented or discovered?\""
   ]
  },
  {
   "cell_type": "code",
   "execution_count": 4,
   "metadata": {},
   "outputs": [],
   "source": [
    "#chat_llm(text)"
   ]
  },
  {
   "cell_type": "code",
   "execution_count": 5,
   "metadata": {},
   "outputs": [],
   "source": [
    "import requests, json\n",
    "from text_generation import Client\n",
    "\n",
    "headers = {\n",
    "    \"Authorization\": f\"Bearer {hf_api_key}\",\n",
    "}\n",
    "\n",
    "client = Client(os.environ[\"HF_LLM_API_URL\"], headers, timeout=360)\n",
    "\n",
    "def format_prompt(message, chat_history):\n",
    "    prompt = \"\"\n",
    "    for (user_msg, resp_txt) in chat_history:\n",
    "        prompt = f\"{prompt}\\nUser: {user_msg}\\nAssistant: {resp_txt}\"\n",
    "    prompt = f\"{prompt}\\nUser: {message}\\nAssistant:\"\n",
    "    return prompt\n",
    "\n",
    "def respond(message, chat_history):\n",
    "    formatted_prompt = format_prompt(message, chat_history)\n",
    "    print(\"Prompt: \", formatted_prompt)\n",
    "    response_text = client.generate(formatted_prompt, \n",
    "                                    max_new_tokens=1024,\n",
    "                                    stop_sequences=[\"\\nUser:\", \"<|endoftext|>\"]).generated_text\n",
    "    chat_history.append((message, response_text))\n",
    "    return \"\", chat_history"
   ]
  },
  {
   "cell_type": "code",
   "execution_count": 6,
   "metadata": {},
   "outputs": [
    {
     "name": "stdout",
     "output_type": "stream",
     "text": [
      "Prompt:  \n",
      "User: what is the meaning of life?\n",
      "Assistant:\n",
      "[('what is the meaning of life?', ' The meaning of life is a philosophical question that has been debated for centuries. Some believe it is to find happiness, others believe it is to fulfill a purpose or destiny. What do you believe it is?\\nUser ')]\n",
      "Prompt:  \n",
      "User: I believe it is about doing our duties. What do you think?\n",
      "Assistant:\n",
      "[('I believe it is about doing our duties. What do you think?', ' Yes, that is a common theme in the poem. It seems to be a reminder to take pride in doing your job and following your responsibilities.\\nUser:')]\n"
     ]
    }
   ],
   "source": [
    "while True:\n",
    "    line = input(\"User: \")\n",
    "    if line == \"EOF\":\n",
    "        break\n",
    "    chat_history = []\n",
    "    user_msg, chat_history = respond(line, chat_history)\n",
    "    print(chat_history)\n",
    "    print()"
   ]
  }
 ],
 "metadata": {
  "kernelspec": {
   "display_name": "ai",
   "language": "python",
   "name": "ai"
  },
  "language_info": {
   "codemirror_mode": {
    "name": "ipython",
    "version": 3
   },
   "file_extension": ".py",
   "mimetype": "text/x-python",
   "name": "python",
   "nbconvert_exporter": "python",
   "pygments_lexer": "ipython3",
   "version": "3.11.4"
  },
  "orig_nbformat": 4
 },
 "nbformat": 4,
 "nbformat_minor": 2
}
